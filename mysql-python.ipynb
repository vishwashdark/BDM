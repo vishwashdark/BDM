{
 "cells": [
  {
   "cell_type": "code",
   "execution_count": 7,
   "metadata": {},
   "outputs": [
    {
     "name": "stdout",
     "output_type": "stream",
     "text": [
      "Collecting mysql-connector-python\n",
      "  Downloading mysql_connector_python-8.2.0-cp311-cp311-win_amd64.whl (14.2 MB)\n",
      "                                              0.0/14.2 MB ? eta -:--:--\n",
      "                                              0.3/14.2 MB 5.2 MB/s eta 0:00:03\n",
      "     -                                        0.5/14.2 MB 5.6 MB/s eta 0:00:03\n",
      "     --                                       0.9/14.2 MB 6.1 MB/s eta 0:00:03\n",
      "     ---                                      1.2/14.2 MB 6.2 MB/s eta 0:00:03\n",
      "     ----                                     1.5/14.2 MB 6.4 MB/s eta 0:00:02\n",
      "     ----                                     1.8/14.2 MB 6.6 MB/s eta 0:00:02\n",
      "     -----                                    2.1/14.2 MB 6.3 MB/s eta 0:00:02\n",
      "     ------                                   2.3/14.2 MB 6.2 MB/s eta 0:00:02\n",
      "     -------                                  2.6/14.2 MB 6.4 MB/s eta 0:00:02\n",
      "     --------                                 2.9/14.2 MB 6.3 MB/s eta 0:00:02\n",
      "     ---------                                3.3/14.2 MB 6.3 MB/s eta 0:00:02\n",
      "     ----------                               3.6/14.2 MB 6.5 MB/s eta 0:00:02\n",
      "     ----------                               3.9/14.2 MB 6.5 MB/s eta 0:00:02\n",
      "     -----------                              4.2/14.2 MB 6.5 MB/s eta 0:00:02\n",
      "     ------------                             4.5/14.2 MB 6.5 MB/s eta 0:00:02\n",
      "     -------------                            4.8/14.2 MB 6.5 MB/s eta 0:00:02\n",
      "     --------------                           5.1/14.2 MB 6.5 MB/s eta 0:00:02\n",
      "     ---------------                          5.4/14.2 MB 6.5 MB/s eta 0:00:02\n",
      "     ----------------                         5.7/14.2 MB 6.5 MB/s eta 0:00:02\n",
      "     ----------------                         6.0/14.2 MB 6.5 MB/s eta 0:00:02\n",
      "     -----------------                        6.3/14.2 MB 6.5 MB/s eta 0:00:02\n",
      "     ------------------                       6.6/14.2 MB 6.5 MB/s eta 0:00:02\n",
      "     -------------------                      6.9/14.2 MB 6.5 MB/s eta 0:00:02\n",
      "     --------------------                     7.2/14.2 MB 6.5 MB/s eta 0:00:02\n",
      "     ---------------------                    7.5/14.2 MB 6.5 MB/s eta 0:00:02\n",
      "     ----------------------                   7.9/14.2 MB 6.5 MB/s eta 0:00:01\n",
      "     -----------------------                  8.2/14.2 MB 6.5 MB/s eta 0:00:01\n",
      "     -----------------------                  8.5/14.2 MB 6.6 MB/s eta 0:00:01\n",
      "     ------------------------                 8.8/14.2 MB 6.5 MB/s eta 0:00:01\n",
      "     -------------------------                9.1/14.2 MB 6.5 MB/s eta 0:00:01\n",
      "     --------------------------               9.3/14.2 MB 6.5 MB/s eta 0:00:01\n",
      "     ---------------------------              9.7/14.2 MB 6.5 MB/s eta 0:00:01\n",
      "     ----------------------------             10.0/14.2 MB 6.5 MB/s eta 0:00:01\n",
      "     ----------------------------             10.3/14.2 MB 6.5 MB/s eta 0:00:01\n",
      "     -----------------------------            10.6/14.2 MB 6.5 MB/s eta 0:00:01\n",
      "     ------------------------------           10.9/14.2 MB 6.5 MB/s eta 0:00:01\n",
      "     -------------------------------          11.2/14.2 MB 6.5 MB/s eta 0:00:01\n",
      "     --------------------------------         11.5/14.2 MB 6.5 MB/s eta 0:00:01\n",
      "     ---------------------------------        11.8/14.2 MB 6.5 MB/s eta 0:00:01\n",
      "     ---------------------------------        12.1/14.2 MB 6.5 MB/s eta 0:00:01\n",
      "     ----------------------------------       12.4/14.2 MB 6.5 MB/s eta 0:00:01\n",
      "     -----------------------------------      12.6/14.2 MB 6.5 MB/s eta 0:00:01\n",
      "     ------------------------------------     13.0/14.2 MB 6.5 MB/s eta 0:00:01\n",
      "     -------------------------------------    13.3/14.2 MB 6.5 MB/s eta 0:00:01\n",
      "     --------------------------------------   13.6/14.2 MB 6.5 MB/s eta 0:00:01\n",
      "     ---------------------------------------  13.9/14.2 MB 6.4 MB/s eta 0:00:01\n",
      "     ---------------------------------------  14.2/14.2 MB 6.4 MB/s eta 0:00:01\n",
      "     ---------------------------------------  14.2/14.2 MB 6.4 MB/s eta 0:00:01\n",
      "     ---------------------------------------- 14.2/14.2 MB 6.1 MB/s eta 0:00:00\n",
      "Collecting protobuf<=4.21.12,>=4.21.1 (from mysql-connector-python)\n",
      "  Downloading protobuf-4.21.12-cp310-abi3-win_amd64.whl (527 kB)\n",
      "                                              0.0/527.0 kB ? eta -:--:--\n",
      "     -------------------                    276.5/527.0 kB 5.7 MB/s eta 0:00:01\n",
      "     -------------------------------------  522.2/527.0 kB 6.6 MB/s eta 0:00:01\n",
      "     -------------------------------------- 527.0/527.0 kB 5.5 MB/s eta 0:00:00\n",
      "Installing collected packages: protobuf, mysql-connector-python\n",
      "  Attempting uninstall: protobuf\n",
      "    Found existing installation: protobuf 4.23.3\n",
      "    Uninstalling protobuf-4.23.3:\n",
      "      Successfully uninstalled protobuf-4.23.3\n",
      "Successfully installed mysql-connector-python-8.2.0 protobuf-4.21.12\n",
      "Note: you may need to restart the kernel to use updated packages.\n"
     ]
    },
    {
     "name": "stderr",
     "output_type": "stream",
     "text": [
      "\n",
      "[notice] A new release of pip is available: 23.1.2 -> 23.3.1\n",
      "[notice] To update, run: python.exe -m pip install --upgrade pip\n"
     ]
    }
   ],
   "source": [
    "pip install mysql-connector-python\n"
   ]
  },
  {
   "cell_type": "code",
   "execution_count": 8,
   "metadata": {},
   "outputs": [
    {
     "name": "stdout",
     "output_type": "stream",
     "text": [
      "<mysql.connector.connection_cext.CMySQLConnection object at 0x000001BAA984CD50>\n"
     ]
    }
   ],
   "source": [
    "#connection between python and MySql\n",
    "import mysql.connector\n",
    "mydb=mysql.connector.connect(\n",
    "    host='localhost',\n",
    "    user='root',\n",
    "    password='root'\n",
    ")\n",
    "print(mydb)"
   ]
  },
  {
   "cell_type": "code",
   "execution_count": null,
   "metadata": {},
   "outputs": [],
   "source": []
  }
 ],
 "metadata": {
  "kernelspec": {
   "display_name": "Python 3",
   "language": "python",
   "name": "python3"
  },
  "language_info": {
   "codemirror_mode": {
    "name": "ipython",
    "version": 3
   },
   "file_extension": ".py",
   "mimetype": "text/x-python",
   "name": "python",
   "nbconvert_exporter": "python",
   "pygments_lexer": "ipython3",
   "version": "3.11.4"
  }
 },
 "nbformat": 4,
 "nbformat_minor": 2
}
