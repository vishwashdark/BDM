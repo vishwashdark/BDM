{
 "cells": [
  {
   "cell_type": "code",
   "execution_count": null,
   "metadata": {},
   "outputs": [],
   "source": [
    "from pyspark.sql import SparkSession\n",
    "from pyspark.ml.feature import Tokenizer, StopWordsRemover, CountVectorizer, IDF, RegexTokenizer\n",
    "from pyspark.ml.classification import LogisticRegression\n",
    "from pyspark.ml.feature import VectorAssembler\n",
    "from pyspark.ml.evaluation import MulticlassClassificationEvaluator\n",
    "\n",
    "# Create a Spark session\n",
    "spark = SparkSession.builder.appName(\"LogisticRegressionBollywood\").getOrCreate()\n",
    "\n",
    "# Load data into a Spark DataFrame\n",
    "data = spark.read.csv(\"C:/Users/sharm/OneDrive/Desktop/desktop-2/big_data_managment/Sarcasm_Headlines_Dataset.csvm_v2.csv\", header=True, inferSchema=True)\n",
    "# Tokenize the headlines\n",
    "tokenizer = Tokenizer(inputCol=\"headlines\", outputCol=\"words\")\n",
    "data = tokenizer.transform(data)\n",
    "\n",
    "# Remove stop words\n",
    "stopwords_remover = StopWordsRemover(inputCol=\"words\", outputCol=\"filtered_words\")\n",
    "data = stopwords_remover.transform(data)\n",
    "\n",
    "# Apply TF (Term Frequency) vectorization\n",
    "tf_vectorizer = CountVectorizer(inputCol=\"filtered_words\", outputCol=\"raw_features\")\n",
    "tf_model = tf_vectorizer.fit(data)\n",
    "data = tf_model.transform(data)\n",
    "\n",
    "# Apply IDF (Inverse Document Frequency) to the term frequency vectors\n",
    "idf = IDF(inputCol=\"raw_features\", outputCol=\"features\")\n",
    "idf_model = idf.fit(data)\n",
    "data = idf_model.transform(data)\n",
    "\n",
    "# Select only necessary columns\n",
    "data = data.select(\"is_sarcastic\", \"features\")\n",
    "\n",
    "# Split the data into training and testing sets\n",
    "train_data, test_data = data.randomSplit([0.7, 0.3], seed=123)\n",
    "\n",
    "# Create and train a Logistic Regression classifier\n",
    "lr = LogisticRegression(labelCol=\"is_sarcastic\", featuresCol=\"features\")\n",
    "model = lr.fit(train_data)\n",
    "\n",
    "# Make predictions on the test data\n",
    "predictions = model.transform(test_data)\n",
    "\n",
    "# Evaluate the model using a MulticlassClassificationEvaluator\n",
    "evaluator = MulticlassClassificationEvaluator(\n",
    "    labelCol=\"is_sarcastic\", predictionCol=\"prediction\", metricName=\"accuracy\"\n",
    ")\n",
    "accuracy = evaluator.evaluate(predictions)\n",
    "\n",
    "# Print the accuracy of the model\n",
    "print(f\"Accuracy: {accuracy}\")\n",
    "\n",
    "# Stop the Spark session\n",
    "spark.stop()\n"
   ]
  }
 ],
 "metadata": {
  "kernelspec": {
   "display_name": "Python 3",
   "language": "python",
   "name": "python3"
  },
  "language_info": {
   "name": "python",
   "version": "3.11.4"
  }
 },
 "nbformat": 4,
 "nbformat_minor": 2
}
